{
    "nbformat_minor": 1, 
    "cells": [
        {
            "source": "# Machine Learning Project", 
            "cell_type": "markdown", 
            "metadata": {
                "collapsed": true
            }
        }, 
        {
            "source": "You load a historical dataset from previous loan applications, clean the data, and apply different classification algorithm on the data. You are expected to use the following algorithms to build your models:\n\nk-Nearest Neighbour,\nDecision Tree,\nSupport Vector Machine,\nLogistic Regression.\n\nThe results is reported as the accuracy of each classifier, using the following metrics when these are applicable:\n\nJaccard index,\nF1-score,\nLogLoass", 
            "cell_type": "markdown", 
            "metadata": {}
        }, 
        {
            "source": "# k-Nearest Neighbour", 
            "cell_type": "markdown", 
            "metadata": {}
        }, 
        {
            "source": "!wget -O loan_train.csv https://s3-api.us-geo.objectstorage.softlayer.net/cf-courses-data/CognitiveClass/ML0101ENv3/labs/loan_train.csv\n#inport csv file", 
            "cell_type": "code", 
            "metadata": {
                "scrolled": true
            }, 
            "outputs": [
                {
                    "output_type": "stream", 
                    "name": "stdout", 
                    "text": "--2019-04-29 00:57:05--  https://s3-api.us-geo.objectstorage.softlayer.net/cf-courses-data/CognitiveClass/ML0101ENv3/labs/loan_train.csv\nResolving s3-api.us-geo.objectstorage.softlayer.net (s3-api.us-geo.objectstorage.softlayer.net)... 67.228.254.193\nConnecting to s3-api.us-geo.objectstorage.softlayer.net (s3-api.us-geo.objectstorage.softlayer.net)|67.228.254.193|:443... connected.\nHTTP request sent, awaiting response... 200 OK\nLength: 23101 (23K) [text/csv]\nSaving to: \u2018loan_train.csv\u2019\n\n100%[======================================>] 23,101      --.-K/s   in 0.002s  \n\n2019-04-29 00:57:05 (13.7 MB/s) - \u2018loan_train.csv\u2019 saved [23101/23101]\n\n"
                }
            ], 
            "execution_count": 32
        }, 
        {
            "source": "import itertools\nimport numpy as np\nimport matplotlib.pyplot as plt\nfrom matplotlib.ticker import NullFormatter\nimport pandas as pd\nimport numpy as np\nimport matplotlib.ticker as ticker\nfrom sklearn import preprocessing\n%matplotlib inline\nfrom sklearn.neighbors import KNeighborsClassifier\nfrom sklearn.cross_validation import train_test_split\nfrom sklearn.metrics import jaccard_similarity_score\nfrom sklearn.metrics import f1_score\nfrom sklearn.metrics import log_loss\nfrom sklearn.metrics import classification_report\n# import library ", 
            "cell_type": "code", 
            "metadata": {}, 
            "outputs": [], 
            "execution_count": 33
        }, 
        {
            "source": "df = pd.read_csv(\"loan_train.csv\")\ndf.head()", 
            "cell_type": "code", 
            "metadata": {}, 
            "outputs": [
                {
                    "output_type": "execute_result", 
                    "data": {
                        "text/html": "<div>\n<style scoped>\n    .dataframe tbody tr th:only-of-type {\n        vertical-align: middle;\n    }\n\n    .dataframe tbody tr th {\n        vertical-align: top;\n    }\n\n    .dataframe thead th {\n        text-align: right;\n    }\n</style>\n<table border=\"1\" class=\"dataframe\">\n  <thead>\n    <tr style=\"text-align: right;\">\n      <th></th>\n      <th>Unnamed: 0</th>\n      <th>Unnamed: 0.1</th>\n      <th>loan_status</th>\n      <th>Principal</th>\n      <th>terms</th>\n      <th>effective_date</th>\n      <th>due_date</th>\n      <th>age</th>\n      <th>education</th>\n      <th>Gender</th>\n    </tr>\n  </thead>\n  <tbody>\n    <tr>\n      <th>0</th>\n      <td>0</td>\n      <td>0</td>\n      <td>PAIDOFF</td>\n      <td>1000</td>\n      <td>30</td>\n      <td>9/8/2016</td>\n      <td>10/7/2016</td>\n      <td>45</td>\n      <td>High School or Below</td>\n      <td>male</td>\n    </tr>\n    <tr>\n      <th>1</th>\n      <td>2</td>\n      <td>2</td>\n      <td>PAIDOFF</td>\n      <td>1000</td>\n      <td>30</td>\n      <td>9/8/2016</td>\n      <td>10/7/2016</td>\n      <td>33</td>\n      <td>Bechalor</td>\n      <td>female</td>\n    </tr>\n    <tr>\n      <th>2</th>\n      <td>3</td>\n      <td>3</td>\n      <td>PAIDOFF</td>\n      <td>1000</td>\n      <td>15</td>\n      <td>9/8/2016</td>\n      <td>9/22/2016</td>\n      <td>27</td>\n      <td>college</td>\n      <td>male</td>\n    </tr>\n    <tr>\n      <th>3</th>\n      <td>4</td>\n      <td>4</td>\n      <td>PAIDOFF</td>\n      <td>1000</td>\n      <td>30</td>\n      <td>9/9/2016</td>\n      <td>10/8/2016</td>\n      <td>28</td>\n      <td>college</td>\n      <td>female</td>\n    </tr>\n    <tr>\n      <th>4</th>\n      <td>6</td>\n      <td>6</td>\n      <td>PAIDOFF</td>\n      <td>1000</td>\n      <td>30</td>\n      <td>9/9/2016</td>\n      <td>10/8/2016</td>\n      <td>29</td>\n      <td>college</td>\n      <td>male</td>\n    </tr>\n  </tbody>\n</table>\n</div>", 
                        "text/plain": "   Unnamed: 0  Unnamed: 0.1 loan_status  Principal  terms effective_date  \\\n0           0             0     PAIDOFF       1000     30       9/8/2016   \n1           2             2     PAIDOFF       1000     30       9/8/2016   \n2           3             3     PAIDOFF       1000     15       9/8/2016   \n3           4             4     PAIDOFF       1000     30       9/9/2016   \n4           6             6     PAIDOFF       1000     30       9/9/2016   \n\n    due_date  age             education  Gender  \n0  10/7/2016   45  High School or Below    male  \n1  10/7/2016   33              Bechalor  female  \n2  9/22/2016   27               college    male  \n3  10/8/2016   28               college  female  \n4  10/8/2016   29               college    male  "
                    }, 
                    "execution_count": 34, 
                    "metadata": {}
                }
            ], 
            "execution_count": 34
        }, 
        {
            "source": "df.isnull().any()\n# check is there any missing value", 
            "cell_type": "code", 
            "metadata": {}, 
            "outputs": [
                {
                    "output_type": "execute_result", 
                    "data": {
                        "text/plain": "Unnamed: 0        False\nUnnamed: 0.1      False\nloan_status       False\nPrincipal         False\nterms             False\neffective_date    False\ndue_date          False\nage               False\neducation         False\nGender            False\ndtype: bool"
                    }, 
                    "execution_count": 35, 
                    "metadata": {}
                }
            ], 
            "execution_count": 35
        }, 
        {
            "source": "df.columns\n# check what kind of feature the file have", 
            "cell_type": "code", 
            "metadata": {}, 
            "outputs": [
                {
                    "output_type": "execute_result", 
                    "data": {
                        "text/plain": "Index(['Unnamed: 0', 'Unnamed: 0.1', 'loan_status', 'Principal', 'terms',\n       'effective_date', 'due_date', 'age', 'education', 'Gender'],\n      dtype='object')"
                    }, 
                    "execution_count": 36, 
                    "metadata": {}
                }
            ], 
            "execution_count": 36
        }, 
        {
            "source": "df['loan_status'].value_counts()\n# check the variable", 
            "cell_type": "code", 
            "metadata": {}, 
            "outputs": [
                {
                    "output_type": "execute_result", 
                    "data": {
                        "text/plain": "PAIDOFF       260\nCOLLECTION     86\nName: loan_status, dtype: int64"
                    }, 
                    "execution_count": 37, 
                    "metadata": {}
                }
            ], 
            "execution_count": 37
        }, 
        {
            "source": "x = df[['Principal','terms','age']].values  \nx[0:5]\n# Set variable x", 
            "cell_type": "code", 
            "metadata": {}, 
            "outputs": [
                {
                    "output_type": "execute_result", 
                    "data": {
                        "text/plain": "array([[1000,   30,   45],\n       [1000,   30,   33],\n       [1000,   15,   27],\n       [1000,   30,   28],\n       [1000,   30,   29]])"
                    }, 
                    "execution_count": 38, 
                    "metadata": {}
                }
            ], 
            "execution_count": 38
        }, 
        {
            "source": "", 
            "cell_type": "code", 
            "metadata": {
                "scrolled": true
            }, 
            "outputs": [], 
            "execution_count": 9
        }, 
        {
            "source": "x[0:5]", 
            "cell_type": "code", 
            "metadata": {}, 
            "outputs": [
                {
                    "output_type": "execute_result", 
                    "data": {
                        "text/plain": "array([[1000,   30,   45],\n       [1000,   30,   33],\n       [1000,   15,   27],\n       [1000,   30,   28],\n       [1000,   30,   29]])"
                    }, 
                    "execution_count": 10, 
                    "metadata": {}
                }
            ], 
            "execution_count": 10
        }, 
        {
            "source": "y = df['loan_status'].values\ny[0:5]\n# Set variable y", 
            "cell_type": "code", 
            "metadata": {}, 
            "outputs": [
                {
                    "output_type": "execute_result", 
                    "data": {
                        "text/plain": "array(['PAIDOFF', 'PAIDOFF', 'PAIDOFF', 'PAIDOFF', 'PAIDOFF'], dtype=object)"
                    }, 
                    "execution_count": 42, 
                    "metadata": {}
                }
            ], 
            "execution_count": 42
        }, 
        {
            "source": "x = preprocessing.StandardScaler().fit(x).transform(x.astype(float))\nx[0:5]", 
            "cell_type": "code", 
            "metadata": {}, 
            "outputs": [
                {
                    "output_type": "stream", 
                    "name": "stderr", 
                    "text": "/opt/conda/envs/DSX-Python35/lib/python3.5/site-packages/sklearn/utils/validation.py:475: DataConversionWarning: Data with input dtype int64 was converted to float64 by StandardScaler.\n  warnings.warn(msg, DataConversionWarning)\n"
                }, 
                {
                    "output_type": "execute_result", 
                    "data": {
                        "text/plain": "array([[ 0.51578458,  0.92071769,  2.33152555],\n       [ 0.51578458,  0.92071769,  0.34170148],\n       [ 0.51578458, -0.95911111, -0.65321055],\n       [ 0.51578458,  0.92071769, -0.48739188],\n       [ 0.51578458,  0.92071769, -0.3215732 ]])"
                    }, 
                    "execution_count": 43, 
                    "metadata": {}
                }
            ], 
            "execution_count": 43
        }, 
        {
            "source": "from sklearn.model_selection import train_test_split\nx_train, x_test, y_train, y_test = train_test_split( x, y, test_size=0.2, random_state=4)\nprint ('Train set:', x_train.shape,  y_train.shape)\nprint ('Test set:', x_test.shape,  y_test.shape)", 
            "cell_type": "code", 
            "metadata": {}, 
            "outputs": [
                {
                    "output_type": "stream", 
                    "name": "stdout", 
                    "text": "Train set: (276, 3) (276,)\nTest set: (70, 3) (70,)\n"
                }
            ], 
            "execution_count": 44
        }, 
        {
            "source": "from sklearn.neighbors import KNeighborsClassifier\nk = 6\n\nneigh = KNeighborsClassifier(n_neighbors = k).fit(x_train,y_train)\nneigh", 
            "cell_type": "code", 
            "metadata": {}, 
            "outputs": [
                {
                    "output_type": "execute_result", 
                    "data": {
                        "text/plain": "KNeighborsClassifier(algorithm='auto', leaf_size=30, metric='minkowski',\n           metric_params=None, n_jobs=1, n_neighbors=6, p=2,\n           weights='uniform')"
                    }, 
                    "execution_count": 45, 
                    "metadata": {}
                }
            ], 
            "execution_count": 45
        }, 
        {
            "source": "yhat = neigh.predict(x_test)\nyhat", 
            "cell_type": "code", 
            "metadata": {}, 
            "outputs": [
                {
                    "output_type": "execute_result", 
                    "data": {
                        "text/plain": "array(['PAIDOFF', 'PAIDOFF', 'PAIDOFF', 'COLLECTION', 'PAIDOFF', 'PAIDOFF',\n       'PAIDOFF', 'PAIDOFF', 'COLLECTION', 'PAIDOFF', 'PAIDOFF', 'PAIDOFF',\n       'PAIDOFF', 'PAIDOFF', 'PAIDOFF', 'PAIDOFF', 'PAIDOFF', 'PAIDOFF',\n       'PAIDOFF', 'PAIDOFF', 'PAIDOFF', 'PAIDOFF', 'PAIDOFF', 'COLLECTION',\n       'PAIDOFF', 'PAIDOFF', 'PAIDOFF', 'PAIDOFF', 'PAIDOFF', 'PAIDOFF',\n       'PAIDOFF', 'PAIDOFF', 'PAIDOFF', 'PAIDOFF', 'COLLECTION', 'PAIDOFF',\n       'PAIDOFF', 'PAIDOFF', 'PAIDOFF', 'PAIDOFF', 'PAIDOFF', 'PAIDOFF',\n       'PAIDOFF', 'PAIDOFF', 'PAIDOFF', 'PAIDOFF', 'PAIDOFF', 'PAIDOFF',\n       'PAIDOFF', 'PAIDOFF', 'PAIDOFF', 'PAIDOFF', 'PAIDOFF', 'PAIDOFF',\n       'PAIDOFF', 'PAIDOFF', 'PAIDOFF', 'PAIDOFF', 'PAIDOFF', 'PAIDOFF',\n       'PAIDOFF', 'PAIDOFF', 'PAIDOFF', 'PAIDOFF', 'PAIDOFF', 'PAIDOFF',\n       'PAIDOFF', 'PAIDOFF', 'PAIDOFF', 'PAIDOFF'], dtype=object)"
                    }, 
                    "execution_count": 48, 
                    "metadata": {}
                }
            ], 
            "execution_count": 48
        }, 
        {
            "source": "from sklearn import metrics\nprint(\"Train set Accuracy: \", metrics.accuracy_score(y_train, neigh.predict(x_train)))\nprint(\"Test set Accuracy: \", metrics.accuracy_score(y_test, yhat))\nprint('KNN Jaccard:', jaccard_similarity_score(y_test, yhat))\nprint('KNN F1-Score:', f1_score(y_test, yhat, average='weighted'))", 
            "cell_type": "code", 
            "metadata": {}, 
            "outputs": [
                {
                    "output_type": "stream", 
                    "name": "stdout", 
                    "text": "Train set Accuracy:  0.75\nTest set Accuracy:  0.728571428571\nKNN Jaccard: 0.728571428571\nKNN F1-Score: 0.662337662338\n"
                }
            ], 
            "execution_count": 49
        }, 
        {
            "source": "# Decision Tree", 
            "cell_type": "markdown", 
            "metadata": {}
        }, 
        {
            "source": "from sklearn.tree import DecisionTreeClassifier", 
            "cell_type": "code", 
            "metadata": {}, 
            "outputs": [], 
            "execution_count": 78
        }, 
        {
            "source": "x1 = df[['Principal','terms','age']].values.astype(float)\nx1[0:5]", 
            "cell_type": "code", 
            "metadata": {}, 
            "outputs": [
                {
                    "output_type": "execute_result", 
                    "data": {
                        "text/plain": "array([[ 1000.,    30.,    45.],\n       [ 1000.,    30.,    33.],\n       [ 1000.,    15.,    27.],\n       [ 1000.,    30.,    28.],\n       [ 1000.,    30.,    29.]])"
                    }, 
                    "execution_count": 108, 
                    "metadata": {}
                }
            ], 
            "execution_count": 108
        }, 
        {
            "source": "y1 = df['loan_status'].values\ny1[0:5]", 
            "cell_type": "code", 
            "metadata": {}, 
            "outputs": [
                {
                    "output_type": "execute_result", 
                    "data": {
                        "text/plain": "array([['PAIDOFF', 'PAIDOFF', 'PAIDOFF', 'PAIDOFF'],\n       ['PAIDOFF', 'PAIDOFF', 'PAIDOFF', 'PAIDOFF'],\n       ['PAIDOFF', 'PAIDOFF', 'PAIDOFF', 'PAIDOFF'],\n       ['PAIDOFF', 'PAIDOFF', 'PAIDOFF', 'PAIDOFF'],\n       ['PAIDOFF', 'PAIDOFF', 'PAIDOFF', 'PAIDOFF']], dtype=object)"
                    }, 
                    "execution_count": 109, 
                    "metadata": {}
                }
            ], 
            "execution_count": 109
        }, 
        {
            "source": "x1_trainset, x1_testset, y1_trainset, y1_testset = train_test_split(x1, y1, test_size=0.3, random_state=3)\nx1_trainset.shape, x1_testset.shape", 
            "cell_type": "code", 
            "metadata": {}, 
            "outputs": [
                {
                    "output_type": "execute_result", 
                    "data": {
                        "text/plain": "((242, 3), (104, 3))"
                    }, 
                    "execution_count": 110, 
                    "metadata": {}
                }
            ], 
            "execution_count": 110
        }, 
        {
            "source": "y1_trainset.shape, y1_testset.shape", 
            "cell_type": "code", 
            "metadata": {}, 
            "outputs": [
                {
                    "output_type": "execute_result", 
                    "data": {
                        "text/plain": "((242, 4), (104, 4))"
                    }, 
                    "execution_count": 111, 
                    "metadata": {}
                }
            ], 
            "execution_count": 111
        }, 
        {
            "source": "Tree = DecisionTreeClassifier(criterion=\"entropy\", max_depth = 4)\nTree.fit(x_train,y_train)\nTree # it shows the default parameters", 
            "cell_type": "code", 
            "metadata": {}, 
            "outputs": [
                {
                    "output_type": "execute_result", 
                    "data": {
                        "text/plain": "DecisionTreeClassifier(class_weight=None, criterion='entropy', max_depth=4,\n            max_features=None, max_leaf_nodes=None,\n            min_impurity_decrease=0.0, min_impurity_split=None,\n            min_samples_leaf=1, min_samples_split=2,\n            min_weight_fraction_leaf=0.0, presort=False, random_state=None,\n            splitter='best')"
                    }, 
                    "execution_count": 120, 
                    "metadata": {}
                }
            ], 
            "execution_count": 120
        }, 
        {
            "source": "pTree = Tree.predict(x_test)\npTree", 
            "cell_type": "code", 
            "metadata": {}, 
            "outputs": [
                {
                    "output_type": "execute_result", 
                    "data": {
                        "text/plain": "array(['PAIDOFF', 'PAIDOFF', 'PAIDOFF', 'PAIDOFF', 'PAIDOFF', 'PAIDOFF',\n       'PAIDOFF', 'PAIDOFF', 'PAIDOFF', 'PAIDOFF', 'PAIDOFF', 'PAIDOFF',\n       'PAIDOFF', 'PAIDOFF', 'PAIDOFF', 'PAIDOFF', 'PAIDOFF', 'PAIDOFF',\n       'PAIDOFF', 'PAIDOFF', 'PAIDOFF', 'PAIDOFF', 'PAIDOFF', 'PAIDOFF',\n       'PAIDOFF', 'PAIDOFF', 'PAIDOFF', 'COLLECTION', 'PAIDOFF', 'PAIDOFF',\n       'PAIDOFF', 'PAIDOFF', 'PAIDOFF', 'PAIDOFF', 'PAIDOFF', 'PAIDOFF',\n       'PAIDOFF', 'PAIDOFF', 'PAIDOFF', 'PAIDOFF', 'PAIDOFF', 'PAIDOFF',\n       'PAIDOFF', 'PAIDOFF', 'PAIDOFF', 'PAIDOFF', 'PAIDOFF', 'PAIDOFF',\n       'PAIDOFF', 'PAIDOFF', 'PAIDOFF', 'PAIDOFF', 'PAIDOFF', 'PAIDOFF',\n       'PAIDOFF', 'PAIDOFF', 'PAIDOFF', 'PAIDOFF', 'PAIDOFF', 'PAIDOFF',\n       'PAIDOFF', 'PAIDOFF', 'PAIDOFF', 'PAIDOFF', 'PAIDOFF', 'PAIDOFF',\n       'PAIDOFF', 'PAIDOFF', 'PAIDOFF', 'PAIDOFF'], dtype=object)"
                    }, 
                    "execution_count": 121, 
                    "metadata": {}
                }
            ], 
            "execution_count": 121
        }, 
        {
            "source": "from sklearn import metrics\nimport matplotlib.pyplot as plt\nprint(\"DT Jaccard index: %.2f\" % jaccard_similarity_score(y_test, pTree))\nprint(\"DT F1-score: %.2f\" % f1_score(y_test, pTree, average='weighted') )", 
            "cell_type": "code", 
            "metadata": {}, 
            "outputs": [
                {
                    "output_type": "stream", 
                    "name": "stdout", 
                    "text": "DT Jaccard index: 0.77\nDT F1-score: 0.68\n"
                }
            ], 
            "execution_count": 124
        }, 
        {
            "source": "# Support Vector Machine", 
            "cell_type": "markdown", 
            "metadata": {}
        }, 
        {
            "source": "from sklearn import svm", 
            "cell_type": "code", 
            "metadata": {}, 
            "outputs": [], 
            "execution_count": 59
        }, 
        {
            "source": "x2 = df[['loan_status', 'Principal','terms','age']].values  \nx2[0:5]", 
            "cell_type": "code", 
            "metadata": {}, 
            "outputs": [
                {
                    "output_type": "execute_result", 
                    "data": {
                        "text/plain": "array([['PAIDOFF', 1000, 30, 45],\n       ['PAIDOFF', 1000, 30, 33],\n       ['PAIDOFF', 1000, 15, 27],\n       ['PAIDOFF', 1000, 30, 28],\n       ['PAIDOFF', 1000, 30, 29]], dtype=object)"
                    }, 
                    "execution_count": 60, 
                    "metadata": {}
                }
            ], 
            "execution_count": 60
        }, 
        {
            "source": "y2 = df['loan_status'].values\ny2[0:5]", 
            "cell_type": "code", 
            "metadata": {}, 
            "outputs": [
                {
                    "output_type": "execute_result", 
                    "data": {
                        "text/plain": "array(['PAIDOFF', 'PAIDOFF', 'PAIDOFF', 'PAIDOFF', 'PAIDOFF'], dtype=object)"
                    }, 
                    "execution_count": 61, 
                    "metadata": {}
                }
            ], 
            "execution_count": 61
        }, 
        {
            "source": "x2_train, x2_test, y2_train, y2_test = train_test_split(x2, y2, test_size=0.2, random_state=4)\nprint ('Train set:', x2_train.shape,  y2_train.shape)\nprint ('Test set:', x2_test.shape,  y2_test.shape)", 
            "cell_type": "code", 
            "metadata": {}, 
            "outputs": [
                {
                    "output_type": "stream", 
                    "name": "stdout", 
                    "text": "Train set: (276, 4) (276,)\nTest set: (70, 4) (70,)\n"
                }
            ], 
            "execution_count": 62
        }, 
        {
            "source": "clf = svm.SVC()\nclf.fit(x_train, y_train) ", 
            "cell_type": "code", 
            "metadata": {}, 
            "outputs": [
                {
                    "output_type": "execute_result", 
                    "data": {
                        "text/plain": "SVC(C=1.0, cache_size=200, class_weight=None, coef0=0.0,\n  decision_function_shape='ovr', degree=3, gamma='auto', kernel='rbf',\n  max_iter=-1, probability=False, random_state=None, shrinking=True,\n  tol=0.001, verbose=False)"
                    }, 
                    "execution_count": 63, 
                    "metadata": {}
                }
            ], 
            "execution_count": 63
        }, 
        {
            "source": "yhat = clf.predict(x_test)\nyhat", 
            "cell_type": "code", 
            "metadata": {}, 
            "outputs": [
                {
                    "output_type": "execute_result", 
                    "data": {
                        "text/plain": "array(['PAIDOFF', 'PAIDOFF', 'PAIDOFF', 'PAIDOFF', 'PAIDOFF', 'PAIDOFF',\n       'PAIDOFF', 'PAIDOFF', 'PAIDOFF', 'PAIDOFF', 'PAIDOFF', 'PAIDOFF',\n       'PAIDOFF', 'PAIDOFF', 'PAIDOFF', 'PAIDOFF', 'PAIDOFF', 'PAIDOFF',\n       'PAIDOFF', 'PAIDOFF', 'PAIDOFF', 'PAIDOFF', 'PAIDOFF', 'PAIDOFF',\n       'PAIDOFF', 'PAIDOFF', 'PAIDOFF', 'PAIDOFF', 'PAIDOFF', 'PAIDOFF',\n       'PAIDOFF', 'PAIDOFF', 'PAIDOFF', 'PAIDOFF', 'PAIDOFF', 'PAIDOFF',\n       'PAIDOFF', 'PAIDOFF', 'PAIDOFF', 'PAIDOFF', 'PAIDOFF', 'PAIDOFF',\n       'PAIDOFF', 'PAIDOFF', 'PAIDOFF', 'PAIDOFF', 'PAIDOFF', 'PAIDOFF',\n       'PAIDOFF', 'PAIDOFF', 'PAIDOFF', 'PAIDOFF', 'PAIDOFF', 'PAIDOFF',\n       'PAIDOFF', 'PAIDOFF', 'PAIDOFF', 'PAIDOFF', 'PAIDOFF', 'PAIDOFF',\n       'PAIDOFF', 'PAIDOFF', 'PAIDOFF', 'PAIDOFF', 'PAIDOFF', 'PAIDOFF',\n       'PAIDOFF', 'PAIDOFF', 'PAIDOFF', 'PAIDOFF'], dtype=object)"
                    }, 
                    "execution_count": 64, 
                    "metadata": {}
                }
            ], 
            "execution_count": 64
        }, 
        {
            "source": "from sklearn.metrics import classification_report, confusion_matrix\nimport itertools\n# Evaluation", 
            "cell_type": "code", 
            "metadata": {}, 
            "outputs": [], 
            "execution_count": 65
        }, 
        {
            "source": "from sklearn.metrics import f1_score\nf1_score(y_test, yhat, average='weighted') \n# f1 score", 
            "cell_type": "code", 
            "metadata": {}, 
            "outputs": [
                {
                    "output_type": "stream", 
                    "name": "stderr", 
                    "text": "/opt/conda/envs/DSX-Python35/lib/python3.5/site-packages/sklearn/metrics/classification.py:1135: UndefinedMetricWarning: F-score is ill-defined and being set to 0.0 in labels with no predicted samples.\n  'precision', 'predicted', average, warn_for)\n"
                }, 
                {
                    "output_type": "execute_result", 
                    "data": {
                        "text/plain": "0.69142857142857139"
                    }, 
                    "execution_count": 66, 
                    "metadata": {}
                }
            ], 
            "execution_count": 66
        }, 
        {
            "source": "from sklearn.metrics import jaccard_similarity_score\njaccard_similarity_score(y_test, yhat)\n# jaccard score", 
            "cell_type": "code", 
            "metadata": {}, 
            "outputs": [
                {
                    "output_type": "execute_result", 
                    "data": {
                        "text/plain": "0.7857142857142857"
                    }, 
                    "execution_count": 67, 
                    "metadata": {}
                }
            ], 
            "execution_count": 67
        }, 
        {
            "source": "# Logistic Regression", 
            "cell_type": "markdown", 
            "metadata": {}
        }, 
        {
            "source": "df = df[['loan_status', 'Principal','terms','age','loan_status']]\ndf['loan_status'] = df['loan_status']\ndf.head()", 
            "cell_type": "code", 
            "metadata": {}, 
            "outputs": [
                {
                    "output_type": "execute_result", 
                    "data": {
                        "text/html": "<div>\n<style scoped>\n    .dataframe tbody tr th:only-of-type {\n        vertical-align: middle;\n    }\n\n    .dataframe tbody tr th {\n        vertical-align: top;\n    }\n\n    .dataframe thead th {\n        text-align: right;\n    }\n</style>\n<table border=\"1\" class=\"dataframe\">\n  <thead>\n    <tr style=\"text-align: right;\">\n      <th></th>\n      <th>loan_status</th>\n      <th>loan_status</th>\n      <th>Principal</th>\n      <th>terms</th>\n      <th>age</th>\n      <th>loan_status</th>\n      <th>loan_status</th>\n    </tr>\n  </thead>\n  <tbody>\n    <tr>\n      <th>0</th>\n      <td>PAIDOFF</td>\n      <td>PAIDOFF</td>\n      <td>1000</td>\n      <td>30</td>\n      <td>45</td>\n      <td>PAIDOFF</td>\n      <td>PAIDOFF</td>\n    </tr>\n    <tr>\n      <th>1</th>\n      <td>PAIDOFF</td>\n      <td>PAIDOFF</td>\n      <td>1000</td>\n      <td>30</td>\n      <td>33</td>\n      <td>PAIDOFF</td>\n      <td>PAIDOFF</td>\n    </tr>\n    <tr>\n      <th>2</th>\n      <td>PAIDOFF</td>\n      <td>PAIDOFF</td>\n      <td>1000</td>\n      <td>15</td>\n      <td>27</td>\n      <td>PAIDOFF</td>\n      <td>PAIDOFF</td>\n    </tr>\n    <tr>\n      <th>3</th>\n      <td>PAIDOFF</td>\n      <td>PAIDOFF</td>\n      <td>1000</td>\n      <td>30</td>\n      <td>28</td>\n      <td>PAIDOFF</td>\n      <td>PAIDOFF</td>\n    </tr>\n    <tr>\n      <th>4</th>\n      <td>PAIDOFF</td>\n      <td>PAIDOFF</td>\n      <td>1000</td>\n      <td>30</td>\n      <td>29</td>\n      <td>PAIDOFF</td>\n      <td>PAIDOFF</td>\n    </tr>\n  </tbody>\n</table>\n</div>", 
                        "text/plain": "  loan_status loan_status  Principal  terms  age loan_status loan_status\n0     PAIDOFF     PAIDOFF       1000     30   45     PAIDOFF     PAIDOFF\n1     PAIDOFF     PAIDOFF       1000     30   33     PAIDOFF     PAIDOFF\n2     PAIDOFF     PAIDOFF       1000     15   27     PAIDOFF     PAIDOFF\n3     PAIDOFF     PAIDOFF       1000     30   28     PAIDOFF     PAIDOFF\n4     PAIDOFF     PAIDOFF       1000     30   29     PAIDOFF     PAIDOFF"
                    }, 
                    "execution_count": 69, 
                    "metadata": {}
                }
            ], 
            "execution_count": 69
        }, 
        {
            "source": "x3 = df[['loan_status', 'Principal','terms','age']].values  \nx3[0:5]", 
            "cell_type": "code", 
            "metadata": {}, 
            "outputs": [
                {
                    "output_type": "execute_result", 
                    "data": {
                        "text/plain": "array([['PAIDOFF', 'PAIDOFF', 'PAIDOFF', 'PAIDOFF', 1000, 30, 45],\n       ['PAIDOFF', 'PAIDOFF', 'PAIDOFF', 'PAIDOFF', 1000, 30, 33],\n       ['PAIDOFF', 'PAIDOFF', 'PAIDOFF', 'PAIDOFF', 1000, 15, 27],\n       ['PAIDOFF', 'PAIDOFF', 'PAIDOFF', 'PAIDOFF', 1000, 30, 28],\n       ['PAIDOFF', 'PAIDOFF', 'PAIDOFF', 'PAIDOFF', 1000, 30, 29]], dtype=object)"
                    }, 
                    "execution_count": 70, 
                    "metadata": {}
                }
            ], 
            "execution_count": 70
        }, 
        {
            "source": "y3 = np.asarray(df['loan_status'])\ny3[0:5]", 
            "cell_type": "code", 
            "metadata": {}, 
            "outputs": [
                {
                    "output_type": "execute_result", 
                    "data": {
                        "text/plain": "array([['PAIDOFF', 'PAIDOFF', 'PAIDOFF', 'PAIDOFF'],\n       ['PAIDOFF', 'PAIDOFF', 'PAIDOFF', 'PAIDOFF'],\n       ['PAIDOFF', 'PAIDOFF', 'PAIDOFF', 'PAIDOFF'],\n       ['PAIDOFF', 'PAIDOFF', 'PAIDOFF', 'PAIDOFF'],\n       ['PAIDOFF', 'PAIDOFF', 'PAIDOFF', 'PAIDOFF']], dtype=object)"
                    }, 
                    "execution_count": 71, 
                    "metadata": {}
                }
            ], 
            "execution_count": 71
        }, 
        {
            "source": "from sklearn.linear_model import LogisticRegression\nLR_model = LogisticRegression(C=0.01).fit(x_train,y_train)\nLR_model", 
            "cell_type": "code", 
            "metadata": {}, 
            "outputs": [
                {
                    "output_type": "execute_result", 
                    "data": {
                        "text/plain": "LogisticRegression(C=0.01, class_weight=None, dual=False, fit_intercept=True,\n          intercept_scaling=1, max_iter=100, multi_class='ovr', n_jobs=1,\n          penalty='l2', random_state=None, solver='liblinear', tol=0.0001,\n          verbose=0, warm_start=False)"
                    }, 
                    "execution_count": 72, 
                    "metadata": {}
                }
            ], 
            "execution_count": 72
        }, 
        {
            "source": "from sklearn.model_selection import train_test_split\nx_train, x_test, y_train, y_test = train_test_split( x, y, test_size=0.2, random_state=4)\nprint ('Train set:', x_train.shape,  y_train.shape)\nprint ('Test set:', x_test.shape,  y_test.shape)", 
            "cell_type": "code", 
            "metadata": {}, 
            "outputs": [
                {
                    "output_type": "stream", 
                    "name": "stdout", 
                    "text": "Train set: (276, 3) (276,)\nTest set: (70, 3) (70,)\n"
                }
            ], 
            "execution_count": 73
        }, 
        {
            "source": "from sklearn.linear_model import LogisticRegression\nfrom sklearn.metrics import confusion_matrix\nLR = LogisticRegression(C=0.01, solver='liblinear').fit(x_train,y_train)\nLR", 
            "cell_type": "code", 
            "metadata": {}, 
            "outputs": [
                {
                    "output_type": "execute_result", 
                    "data": {
                        "text/plain": "LogisticRegression(C=0.01, class_weight=None, dual=False, fit_intercept=True,\n          intercept_scaling=1, max_iter=100, multi_class='ovr', n_jobs=1,\n          penalty='l2', random_state=None, solver='liblinear', tol=0.0001,\n          verbose=0, warm_start=False)"
                    }, 
                    "execution_count": 74, 
                    "metadata": {}
                }
            ], 
            "execution_count": 74
        }, 
        {
            "source": "yhat = LR.predict(x_test)\nyhat", 
            "cell_type": "code", 
            "metadata": {}, 
            "outputs": [
                {
                    "output_type": "execute_result", 
                    "data": {
                        "text/plain": "array(['PAIDOFF', 'PAIDOFF', 'PAIDOFF', 'PAIDOFF', 'PAIDOFF', 'PAIDOFF',\n       'PAIDOFF', 'PAIDOFF', 'PAIDOFF', 'PAIDOFF', 'PAIDOFF', 'PAIDOFF',\n       'PAIDOFF', 'PAIDOFF', 'PAIDOFF', 'PAIDOFF', 'PAIDOFF', 'PAIDOFF',\n       'PAIDOFF', 'PAIDOFF', 'PAIDOFF', 'PAIDOFF', 'PAIDOFF', 'PAIDOFF',\n       'PAIDOFF', 'PAIDOFF', 'PAIDOFF', 'PAIDOFF', 'PAIDOFF', 'PAIDOFF',\n       'PAIDOFF', 'PAIDOFF', 'PAIDOFF', 'PAIDOFF', 'PAIDOFF', 'PAIDOFF',\n       'PAIDOFF', 'PAIDOFF', 'PAIDOFF', 'PAIDOFF', 'PAIDOFF', 'PAIDOFF',\n       'PAIDOFF', 'PAIDOFF', 'PAIDOFF', 'PAIDOFF', 'PAIDOFF', 'PAIDOFF',\n       'PAIDOFF', 'PAIDOFF', 'PAIDOFF', 'PAIDOFF', 'PAIDOFF', 'PAIDOFF',\n       'PAIDOFF', 'PAIDOFF', 'PAIDOFF', 'PAIDOFF', 'PAIDOFF', 'PAIDOFF',\n       'PAIDOFF', 'PAIDOFF', 'PAIDOFF', 'PAIDOFF', 'PAIDOFF', 'PAIDOFF',\n       'PAIDOFF', 'PAIDOFF', 'PAIDOFF', 'PAIDOFF'], dtype=object)"
                    }, 
                    "execution_count": 75, 
                    "metadata": {}
                }
            ], 
            "execution_count": 75
        }, 
        {
            "source": "LR_yhat = LR_model.predict(x_test)\nLR_yhat_prob = LR_model.predict_proba(x_test)\nprint(\"LR Jaccard index: %.2f\" % jaccard_similarity_score(y_test, yhat))\nprint(\"LR F1-score: %.2f\" % f1_score(y_test, yhat, average='weighted') )\n", 
            "cell_type": "code", 
            "metadata": {}, 
            "outputs": [
                {
                    "output_type": "stream", 
                    "name": "stdout", 
                    "text": "LR Jaccard index: 0.79\nLR F1-score: 0.69\n"
                }, 
                {
                    "output_type": "stream", 
                    "name": "stderr", 
                    "text": "/opt/conda/envs/DSX-Python35/lib/python3.5/site-packages/sklearn/metrics/classification.py:1135: UndefinedMetricWarning: F-score is ill-defined and being set to 0.0 in labels with no predicted samples.\n  'precision', 'predicted', average, warn_for)\n"
                }
            ], 
            "execution_count": 77
        }
    ], 
    "metadata": {
        "kernelspec": {
            "display_name": "Python 3.5", 
            "name": "python3", 
            "language": "python"
        }, 
        "language_info": {
            "mimetype": "text/x-python", 
            "nbconvert_exporter": "python", 
            "version": "3.5.5", 
            "name": "python", 
            "pygments_lexer": "ipython3", 
            "file_extension": ".py", 
            "codemirror_mode": {
                "version": 3, 
                "name": "ipython"
            }
        }
    }, 
    "nbformat": 4
}